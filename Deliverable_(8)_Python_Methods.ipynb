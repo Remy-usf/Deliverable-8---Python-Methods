{
  "nbformat": 4,
  "nbformat_minor": 0,
  "metadata": {
    "colab": {
      "provenance": [],
      "authorship_tag": "ABX9TyO2hOMqzyrsQy2Tt6tuYUYg",
      "include_colab_link": true
    },
    "kernelspec": {
      "name": "python3",
      "display_name": "Python 3"
    },
    "language_info": {
      "name": "python"
    }
  },
  "cells": [
    {
      "cell_type": "markdown",
      "metadata": {
        "id": "view-in-github",
        "colab_type": "text"
      },
      "source": [
        "<a href=\"https://colab.research.google.com/github/Remy-usf/Deliverable-8---Python-Methods/blob/main/Deliverable_(8)_Python_Methods.ipynb\" target=\"_parent\"><img src=\"https://colab.research.google.com/assets/colab-badge.svg\" alt=\"Open In Colab\"/></a>"
      ]
    },
    {
      "cell_type": "code",
      "source": [
        "# Name: Jurami Cajigas\n",
        "# Date: 3/21/2023\n",
        "# Description : Python Program for random number generation."
      ],
      "metadata": {
        "id": "zZe33_URczwD"
      },
      "execution_count": 1,
      "outputs": []
    },
    {
      "cell_type": "code",
      "execution_count": 3,
      "metadata": {
        "id": "viFBTmnhccu4"
      },
      "outputs": [],
      "source": [
        "import random #This line imports the built-in random module"
      ]
    },
    {
      "cell_type": "code",
      "source": [
        "def populate_list(length):\n",
        "    return [random.randint(10, 50) for _ in range(length)]    # generates a list of length random integers between 10 and 50"
      ],
      "metadata": {
        "id": "vkIahO3Jc3D-"
      },
      "execution_count": 4,
      "outputs": []
    },
    {
      "cell_type": "code",
      "source": [
        "def sum_list(lst):\n",
        "    return sum(lst) # computes and returns the sum of the elements in the list"
      ],
      "metadata": {
        "id": "jttLRR3QczoS"
      },
      "execution_count": 5,
      "outputs": []
    },
    {
      "cell_type": "code",
      "source": [
        "while True:\n",
        "    n = int(input(\"Enter an integer number between 5 and 15: \"))\n",
        "    if 5 <= n <= 15:\n",
        "        break   \n",
        "\n",
        "        # loop to repeatedly prompt the user to enter an integer number between 5 and 15 until a valid input is provided."
      ],
      "metadata": {
        "colab": {
          "base_uri": "https://localhost:8080/"
        },
        "id": "4dRqp9M2czRk",
        "outputId": "8e7c30c8-49fd-4c7f-b241-0aba806377ee"
      },
      "execution_count": 6,
      "outputs": [
        {
          "name": "stdout",
          "output_type": "stream",
          "text": [
            "Enter an integer number between 5 and 15: 10\n"
          ]
        }
      ]
    },
    {
      "cell_type": "code",
      "source": [
        "lst = populate_list(n)\n",
        "print(\"The elements of the arrays are:\", *lst)\n",
        "print(\"The sum is:\", sum_list(lst))   #print"
      ],
      "metadata": {
        "colab": {
          "base_uri": "https://localhost:8080/"
        },
        "id": "1I86vpMhcyvX",
        "outputId": "5b185154-9711-4c42-aa7e-31f083c510f0"
      },
      "execution_count": 7,
      "outputs": [
        {
          "output_type": "stream",
          "name": "stdout",
          "text": [
            "The elements of the arrays are: 50 22 38 38 12 42 34 17 15 38\n",
            "The sum is: 306\n"
          ]
        }
      ]
    }
  ]
}